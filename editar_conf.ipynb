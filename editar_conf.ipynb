{
 "cells": [
  {
   "cell_type": "code",
   "execution_count": 41,
   "metadata": {},
   "outputs": [],
   "source": [
    "def remove_motes(motes):\n",
    "    motes.sort()\n",
    "    file_path = 'conf/TSCH_E7_1800000.csc'\n",
    "    ctr = 0 # Contador de motes\n",
    "    rm_mote = False \n",
    "    with open(file_path, \"r\") as fp:\n",
    "        lines = fp.readlines()\n",
    "    with open(file_path, \"w\") as fp:\n",
    "        for line in lines:\n",
    "            if '<mote>' in line:\n",
    "                ctr += 1\n",
    "            if motes and ctr == motes[0]:\n",
    "                motes.remove(ctr) # Eliminar mote de lista\n",
    "                rm_mote = True # Marcar para borrar esta y siguientes líneas\n",
    "            if not rm_mote: # Si línea no está marcado para borrar\n",
    "                fp.write(line) # Escribir línea\n",
    "            if '</mote>' in line: # Si llegué al final de ese mote\n",
    "                rm_mote = False # Desmarcar para borrar siguiente línea"
   ]
  },
  {
   "cell_type": "code",
   "execution_count": 42,
   "metadata": {},
   "outputs": [],
   "source": [
    "motes = [5, 3] # Lista de motes a eliminar\n",
    "remove_motes(motes)"
   ]
  }
 ],
 "metadata": {
  "kernelspec": {
   "display_name": "Python 3",
   "language": "python",
   "name": "python3"
  },
  "language_info": {
   "codemirror_mode": {
    "name": "ipython",
    "version": 3
   },
   "file_extension": ".py",
   "mimetype": "text/x-python",
   "name": "python",
   "nbconvert_exporter": "python",
   "pygments_lexer": "ipython3",
   "version": "3.7.1"
  }
 },
 "nbformat": 4,
 "nbformat_minor": 2
}
